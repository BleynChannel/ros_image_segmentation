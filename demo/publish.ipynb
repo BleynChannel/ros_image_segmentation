{
 "cells": [
  {
   "cell_type": "code",
   "execution_count": 1,
   "metadata": {},
   "outputs": [],
   "source": [
    "import rospy\n",
    "from sensor_msgs.msg import Image\n",
    "import ros_numpy\n",
    "import numpy as np\n",
    "import cv2\n",
    "from threading import Thread\n",
    "\n",
    "rospy.init_node('publish', anonymous=True)"
   ]
  },
  {
   "cell_type": "code",
   "execution_count": 2,
   "metadata": {},
   "outputs": [],
   "source": [
    "publishers = [\n",
    "\trospy.Publisher(url, Image, queue_size=1) for url in [\n",
    "\t\t'/camera_101/image_raw',\n",
    "\t\t'/camera_102/image_raw',\n",
    "\t]\n",
    "]"
   ]
  },
  {
   "cell_type": "code",
   "execution_count": 3,
   "metadata": {},
   "outputs": [],
   "source": [
    "class Camera(Thread):\n",
    "\tdef __init__(self, url: str, publisher: rospy.Publisher) -> None:\n",
    "\t\tsuper().__init__()\n",
    "\n",
    "\t\tself.url = url\n",
    "\t\tself.publisher = publisher\n",
    "\t\tself.running = False\n",
    "\t\tself.cap = cv2.VideoCapture(self.url)\n",
    "\t\tself.rate = rospy.Rate(1)\n",
    " \n",
    "\t\t# Check if camera opened successfully\n",
    "\t\tif (self.cap.isOpened()== False): \n",
    "\t\t\tprint(\"Error opening video stream or file\")\n",
    "\t\n",
    "\tdef run(self):\n",
    "\t\tself.running = True\n",
    "\t\twhile(self.running and self.cap.isOpened()):\n",
    "\t\t\t# Capture frame-by-frame\n",
    "\t\t\tret, frame = self.cap.read()\n",
    "\t\t\tif ret == True:\n",
    "\t\t\t\timage = np.array(frame)\n",
    "\t\t\t\t# image = cv2.resize(cv2.cvtColor(image, cv2.COLOR_BGR2RGB), (384, 192), cv2.INTER_LINEAR)\n",
    "\t\t\t\timage = ros_numpy.msgify(Image, image, encoding='bgr8')\n",
    "\t\t\t\tself.publisher.publish(image)\n",
    "\t\t\t\tself.rate.sleep()\n",
    "\t\t\n",
    "\t\t\t# Break the loop\n",
    "\t\t\telse: \n",
    "\t\t\t\tbreak\n",
    "\t\t\n",
    "\t\t# When everything done, release the video capture object\n",
    "\t\tself.cap.release()\n",
    "\t\n",
    "\tdef stop(self):\n",
    "\t\tself.running = False"
   ]
  },
  {
   "cell_type": "code",
   "execution_count": 4,
   "metadata": {},
   "outputs": [],
   "source": [
    "cameras = [Camera(url, publisher) for (publisher, url) in zip(publishers, [\n",
    "\t'rtsp://192.168.31.233:8554/cam1',\n",
    "\t'rtsp://192.168.31.233:8554/cam2'\n",
    "])]"
   ]
  },
  {
   "cell_type": "code",
   "execution_count": 5,
   "metadata": {},
   "outputs": [],
   "source": [
    "for camera in cameras:\n",
    "\tcamera.start()"
   ]
  },
  {
   "cell_type": "code",
   "execution_count": 6,
   "metadata": {},
   "outputs": [],
   "source": [
    "for camera in cameras:\n",
    "\tcamera.stop()"
   ]
  },
  {
   "cell_type": "markdown",
   "metadata": {},
   "source": [
    "--------"
   ]
  },
  {
   "cell_type": "code",
   "execution_count": 1,
   "metadata": {},
   "outputs": [
    {
     "name": "stderr",
     "output_type": "stream",
     "text": [
      "[WARN] [1722580511.479156]: Inbound TCP/IP connection failed: connection from sender terminated before handshake header received. 0 bytes were received. Please check sender for additional details.\n",
      "[WARN] [1722581930.064456]: Inbound TCP/IP connection failed: connection from sender terminated before handshake header received. 0 bytes were received. Please check sender for additional details.\n"
     ]
    }
   ],
   "source": [
    "import rospy\n",
    "from sensor_msgs.msg import Image\n",
    "import ros_numpy\n",
    "import numpy as np\n",
    "import cv2\n",
    "from PIL import Image as PILImage\n",
    "\n",
    "rospy.init_node('publish', anonymous=True)"
   ]
  },
  {
   "cell_type": "code",
   "execution_count": 2,
   "metadata": {},
   "outputs": [],
   "source": [
    "publish = rospy.Publisher('/camera_101/image_raw', Image, queue_size=1)\n",
    "publish_2 = rospy.Publisher('/camera_102/image_raw', Image, queue_size=1)"
   ]
  },
  {
   "cell_type": "code",
   "execution_count": 15,
   "metadata": {},
   "outputs": [],
   "source": [
    "W, H = 960, 480\n",
    "\n",
    "image = PILImage.open('cityscapes_demo.png')\n",
    "image = np.array(image)\n",
    "image = cv2.resize(cv2.cvtColor(image, cv2.COLOR_BGR2RGB), (W, H), cv2.INTER_LINEAR)\n",
    "image_msg = ros_numpy.msgify(Image, image, encoding='bgr8')"
   ]
  },
  {
   "cell_type": "code",
   "execution_count": 16,
   "metadata": {},
   "outputs": [],
   "source": [
    "publish.publish(image_msg)\n",
    "publish_2.publish(image_msg)"
   ]
  }
 ],
 "metadata": {
  "kernelspec": {
   "display_name": "Python 3",
   "language": "python",
   "name": "python3"
  },
  "language_info": {
   "codemirror_mode": {
    "name": "ipython",
    "version": 3
   },
   "file_extension": ".py",
   "mimetype": "text/x-python",
   "name": "python",
   "nbconvert_exporter": "python",
   "pygments_lexer": "ipython3",
   "version": "3.10.13"
  }
 },
 "nbformat": 4,
 "nbformat_minor": 2
}
